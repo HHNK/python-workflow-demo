{
 "cells": [
  {
   "cell_type": "markdown",
   "metadata": {},
   "source": [
    "Classic notebook. Not great for version management."
   ]
  },
  {
   "cell_type": "code",
   "execution_count": 4,
   "metadata": {},
   "outputs": [
    {
     "data": {
      "text/html": [
       "<style>.container {width:90% !important;}</style>"
      ],
      "text/plain": [
       "<IPython.core.display.HTML object>"
      ]
     },
     "metadata": {},
     "output_type": "display_data"
    },
    {
     "data": {
      "application/vnd.jupyter.widget-view+json": {
       "model_id": "818bf4c9874a4ea6bbd4e23663929196",
       "version_major": 2,
       "version_minor": 0
      },
      "text/plain": [
       "Tab(children=(GridBox(children=(HTML(value='<b>1. Login with API keys                    (<a href=https://hhnk…"
      ]
     },
     "metadata": {},
     "output_type": "display_data"
    }
   ],
   "source": [
    "from hhnk_threedi_tools.core.api.calculation_gui_class import StartCalculationGui\n",
    "from IPython.display import HTML, display\n",
    "\n",
    "display(HTML(\"<style>.container {width:90% !important;}</style>\"))\n",
    "\n",
    "self = StartCalculationGui(data={})\n",
    "display(self.tab)"
   ]
  }
 ],
 "metadata": {
  "kernelspec": {
   "display_name": "threedipy",
   "language": "python",
   "name": "python3"
  },
  "language_info": {
   "codemirror_mode": {
    "name": "ipython",
    "version": 3
   },
   "file_extension": ".py",
   "mimetype": "text/x-python",
   "name": "python",
   "nbconvert_exporter": "python",
   "pygments_lexer": "ipython3",
   "version": "3.9.18"
  }
 },
 "nbformat": 4,
 "nbformat_minor": 2
}
